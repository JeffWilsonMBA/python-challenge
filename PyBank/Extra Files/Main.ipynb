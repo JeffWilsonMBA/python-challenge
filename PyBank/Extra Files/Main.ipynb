{
 "cells": [
  {
   "cell_type": "code",
   "execution_count": 1,
   "metadata": {
    "collapsed": true
   },
   "outputs": [],
   "source": [
    "# Import modules\n",
    "import os\n",
    "import pandas as pd\n",
    "# This is for creating and printing to the text file\n",
    "import sys"
   ]
  },
  {
   "cell_type": "code",
   "execution_count": 2,
   "metadata": {},
   "outputs": [
    {
     "data": {
      "text/html": [
       "<div>\n",
       "<style>\n",
       "    .dataframe thead tr:only-child th {\n",
       "        text-align: right;\n",
       "    }\n",
       "\n",
       "    .dataframe thead th {\n",
       "        text-align: left;\n",
       "    }\n",
       "\n",
       "    .dataframe tbody tr th {\n",
       "        vertical-align: top;\n",
       "    }\n",
       "</style>\n",
       "<table border=\"1\" class=\"dataframe\">\n",
       "  <thead>\n",
       "    <tr style=\"text-align: right;\">\n",
       "      <th></th>\n",
       "      <th>Date</th>\n",
       "      <th>Revenue</th>\n",
       "    </tr>\n",
       "  </thead>\n",
       "  <tbody>\n",
       "    <tr>\n",
       "      <th>0</th>\n",
       "      <td>Jan-2009</td>\n",
       "      <td>943690</td>\n",
       "    </tr>\n",
       "    <tr>\n",
       "      <th>1</th>\n",
       "      <td>Feb-2009</td>\n",
       "      <td>1062565</td>\n",
       "    </tr>\n",
       "    <tr>\n",
       "      <th>2</th>\n",
       "      <td>Mar-2009</td>\n",
       "      <td>210079</td>\n",
       "    </tr>\n",
       "    <tr>\n",
       "      <th>3</th>\n",
       "      <td>Apr-2009</td>\n",
       "      <td>-735286</td>\n",
       "    </tr>\n",
       "    <tr>\n",
       "      <th>4</th>\n",
       "      <td>May-2009</td>\n",
       "      <td>842933</td>\n",
       "    </tr>\n",
       "  </tbody>\n",
       "</table>\n",
       "</div>"
      ],
      "text/plain": [
       "       Date  Revenue\n",
       "0  Jan-2009   943690\n",
       "1  Feb-2009  1062565\n",
       "2  Mar-2009   210079\n",
       "3  Apr-2009  -735286\n",
       "4  May-2009   842933"
      ]
     },
     "execution_count": 2,
     "metadata": {},
     "output_type": "execute_result"
    }
   ],
   "source": [
    "# Open budget file - change folder and file name as needed\n",
    "budget = os.path.join('raw_data', 'budget_data_2.csv')\n",
    "budget_df = pd.read_csv(budget)\n",
    "budget_df.head()"
   ]
  },
  {
   "cell_type": "code",
   "execution_count": 3,
   "metadata": {},
   "outputs": [
    {
     "data": {
      "text/plain": [
       "86"
      ]
     },
     "execution_count": 3,
     "metadata": {},
     "output_type": "execute_result"
    }
   ],
   "source": [
    "# Calculate the number of data rows\n",
    "month_count = budget_df[\"Date\"].count() # len(budget_df[\"Date\"])\n",
    "month_count"
   ]
  },
  {
   "cell_type": "code",
   "execution_count": 4,
   "metadata": {},
   "outputs": [
    {
     "data": {
      "text/plain": [
       "36973911"
      ]
     },
     "execution_count": 4,
     "metadata": {},
     "output_type": "execute_result"
    }
   ],
   "source": [
    "# Sum of monthly revenue\n",
    "total_revenue = budget_df[\"Revenue\"].sum()\n",
    "total_revenue"
   ]
  },
  {
   "cell_type": "code",
   "execution_count": 5,
   "metadata": {
    "scrolled": false
   },
   "outputs": [
    {
     "data": {
      "text/html": [
       "<div>\n",
       "<style>\n",
       "    .dataframe thead tr:only-child th {\n",
       "        text-align: right;\n",
       "    }\n",
       "\n",
       "    .dataframe thead th {\n",
       "        text-align: left;\n",
       "    }\n",
       "\n",
       "    .dataframe tbody tr th {\n",
       "        vertical-align: top;\n",
       "    }\n",
       "</style>\n",
       "<table border=\"1\" class=\"dataframe\">\n",
       "  <thead>\n",
       "    <tr style=\"text-align: right;\">\n",
       "      <th></th>\n",
       "      <th>Date</th>\n",
       "      <th>Revenue</th>\n",
       "      <th>Change</th>\n",
       "    </tr>\n",
       "  </thead>\n",
       "  <tbody>\n",
       "    <tr>\n",
       "      <th>0</th>\n",
       "      <td>Jan-2009</td>\n",
       "      <td>943690</td>\n",
       "      <td>NaN</td>\n",
       "    </tr>\n",
       "    <tr>\n",
       "      <th>1</th>\n",
       "      <td>Feb-2009</td>\n",
       "      <td>1062565</td>\n",
       "      <td>118875.0</td>\n",
       "    </tr>\n",
       "    <tr>\n",
       "      <th>2</th>\n",
       "      <td>Mar-2009</td>\n",
       "      <td>210079</td>\n",
       "      <td>-852486.0</td>\n",
       "    </tr>\n",
       "    <tr>\n",
       "      <th>3</th>\n",
       "      <td>Apr-2009</td>\n",
       "      <td>-735286</td>\n",
       "      <td>-945365.0</td>\n",
       "    </tr>\n",
       "    <tr>\n",
       "      <th>4</th>\n",
       "      <td>May-2009</td>\n",
       "      <td>842933</td>\n",
       "      <td>1578219.0</td>\n",
       "    </tr>\n",
       "  </tbody>\n",
       "</table>\n",
       "</div>"
      ],
      "text/plain": [
       "       Date  Revenue     Change\n",
       "0  Jan-2009   943690        NaN\n",
       "1  Feb-2009  1062565   118875.0\n",
       "2  Mar-2009   210079  -852486.0\n",
       "3  Apr-2009  -735286  -945365.0\n",
       "4  May-2009   842933  1578219.0"
      ]
     },
     "execution_count": 5,
     "metadata": {},
     "output_type": "execute_result"
    }
   ],
   "source": [
    "# Change in monthly revenue\n",
    "budget_df[\"Change\"] = budget_df[\"Revenue\"].diff()\n",
    "budget_df.head()"
   ]
  },
  {
   "cell_type": "code",
   "execution_count": 6,
   "metadata": {},
   "outputs": [
    {
     "data": {
      "text/plain": [
       "(-5955.305882352941, -1947745.0, 1645140.0)"
      ]
     },
     "execution_count": 6,
     "metadata": {},
     "output_type": "execute_result"
    }
   ],
   "source": [
    "# Average, minimum, and maximum revenue change\n",
    "avgChange = budget_df[\"Change\"].mean()\n",
    "minChange = budget_df[\"Change\"].min()\n",
    "maxChange = budget_df[\"Change\"].max()\n",
    "avgChange, minChange, maxChange"
   ]
  },
  {
   "cell_type": "code",
   "execution_count": 7,
   "metadata": {},
   "outputs": [
    {
     "data": {
      "text/html": [
       "<div>\n",
       "<style>\n",
       "    .dataframe thead tr:only-child th {\n",
       "        text-align: right;\n",
       "    }\n",
       "\n",
       "    .dataframe thead th {\n",
       "        text-align: left;\n",
       "    }\n",
       "\n",
       "    .dataframe tbody tr th {\n",
       "        vertical-align: top;\n",
       "    }\n",
       "</style>\n",
       "<table border=\"1\" class=\"dataframe\">\n",
       "  <thead>\n",
       "    <tr style=\"text-align: right;\">\n",
       "      <th></th>\n",
       "      <th>Date</th>\n",
       "      <th>Revenue</th>\n",
       "    </tr>\n",
       "    <tr>\n",
       "      <th>Change</th>\n",
       "      <th></th>\n",
       "      <th></th>\n",
       "    </tr>\n",
       "  </thead>\n",
       "  <tbody>\n",
       "    <tr>\n",
       "      <th>NaN</th>\n",
       "      <td>Jan-2009</td>\n",
       "      <td>943690</td>\n",
       "    </tr>\n",
       "    <tr>\n",
       "      <th>118875.0</th>\n",
       "      <td>Feb-2009</td>\n",
       "      <td>1062565</td>\n",
       "    </tr>\n",
       "    <tr>\n",
       "      <th>-852486.0</th>\n",
       "      <td>Mar-2009</td>\n",
       "      <td>210079</td>\n",
       "    </tr>\n",
       "    <tr>\n",
       "      <th>-945365.0</th>\n",
       "      <td>Apr-2009</td>\n",
       "      <td>-735286</td>\n",
       "    </tr>\n",
       "    <tr>\n",
       "      <th>1578219.0</th>\n",
       "      <td>May-2009</td>\n",
       "      <td>842933</td>\n",
       "    </tr>\n",
       "  </tbody>\n",
       "</table>\n",
       "</div>"
      ],
      "text/plain": [
       "                Date  Revenue\n",
       "Change                       \n",
       "NaN         Jan-2009   943690\n",
       " 118875.0   Feb-2009  1062565\n",
       "-852486.0   Mar-2009   210079\n",
       "-945365.0   Apr-2009  -735286\n",
       " 1578219.0  May-2009   842933"
      ]
     },
     "execution_count": 7,
     "metadata": {},
     "output_type": "execute_result"
    }
   ],
   "source": [
    "# Reindex to avgChange\n",
    "budget_df = budget_df.set_index(\"Change\")\n",
    "budget_df.head()"
   ]
  },
  {
   "cell_type": "code",
   "execution_count": 8,
   "metadata": {},
   "outputs": [
    {
     "name": "stdout",
     "output_type": "stream",
     "text": [
      "Jun-2014 -1947745.0\n",
      "Jul-2014 1645140.0\n"
     ]
    }
   ],
   "source": [
    "# Get min and max change values and months\n",
    "min_date = budget_df.loc[minChange, \"Date\"]\n",
    "max_date = budget_df.loc[maxChange, \"Date\"]\n",
    "print(min_date,minChange)\n",
    "print(max_date,maxChange)"
   ]
  },
  {
   "cell_type": "code",
   "execution_count": 9,
   "metadata": {},
   "outputs": [
    {
     "name": "stdout",
     "output_type": "stream",
     "text": [
      "Financial Analysis\n",
      "---------------------------------\n",
      "Total months:  86\n",
      "Total Revenue:  36973911\n",
      "Average Revenue Change:  -5955.305882352941\n",
      "Greatest Increase in Revenue:  Jul-2014 : 1645140.0\n",
      "Greatest Decrease in Revenue:  Jun-2014 : -1947745.0\n"
     ]
    }
   ],
   "source": [
    "# To print the summary data\n",
    "print(\"Financial Analysis\")\n",
    "print(\"---------------------------------\")\n",
    "print(\"Total months:  \" + str(month_count))\n",
    "print(\"Total Revenue:  \" + str(total_revenue))\n",
    "print(\"Average Revenue Change:  \" + str(avgChange))\n",
    "print(\"Greatest Increase in Revenue:  \" + str(max_date) + \" : \" + str(maxChange))\n",
    "print(\"Greatest Decrease in Revenue:  \" + str(min_date) + \" : \" + str(minChange))"
   ]
  },
  {
   "cell_type": "code",
   "execution_count": null,
   "metadata": {
    "collapsed": true
   },
   "outputs": [],
   "source": [
    "# Output to text file - change output file name for each budget file\n",
    "output_path = os.path.join('Results', 'PyBank_2.txt')\n",
    "sys.stdout=open(output_path,\"w\")\n",
    "print(\"Financial Analysis\")\n",
    "print(\"---------------------------------\")\n",
    "print(\"Total months:  \" + str(month_count))\n",
    "print(\"Total Revenue:  \" + str(total_revenue))\n",
    "print(\"Average Revenue Change:  \" + str(avgChange))\n",
    "print(\"Greatest Increase in Revenue:  \" + str(max_date) + \" : \" + str(maxChange))\n",
    "print(\"Greatest Decrease in Revenue:  \" + str(min_date) + \" : \" + str(minChange))\n",
    "sys.stdout.close()"
   ]
  },
  {
   "cell_type": "code",
   "execution_count": null,
   "metadata": {
    "collapsed": true
   },
   "outputs": [],
   "source": []
  }
 ],
 "metadata": {
  "kernelspec": {
   "display_name": "Python 3",
   "language": "python",
   "name": "python3"
  },
  "language_info": {
   "codemirror_mode": {
    "name": "ipython",
    "version": 3
   },
   "file_extension": ".py",
   "mimetype": "text/x-python",
   "name": "python",
   "nbconvert_exporter": "python",
   "pygments_lexer": "ipython3",
   "version": "3.6.3"
  }
 },
 "nbformat": 4,
 "nbformat_minor": 2
}
